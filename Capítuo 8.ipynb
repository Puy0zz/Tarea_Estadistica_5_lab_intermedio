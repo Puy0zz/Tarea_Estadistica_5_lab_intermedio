{
  "cells": [
    {
      "cell_type": "code",
      "execution_count": 2,
      "metadata": {
        "id": "vBIPDYGOTprR"
      },
      "outputs": [],
      "source": [
        "import numpy as np\n",
        "from scipy import *\n",
        "from scipy.integrate import quad\n",
        "import math\n",
        "import matplotlib.pyplot as plt"
      ]
    },
    {
      "cell_type": "markdown",
      "source": [
        "Funciones para hallar $P(\\chi^2; \\nu)$ dado $\\chi^2$ y $\\nu$."
      ],
      "metadata": {
        "id": "nBFW-aqTWTl5"
      }
    },
    {
      "cell_type": "code",
      "execution_count": 3,
      "metadata": {
        "id": "yJnvtp94tb9d"
      },
      "outputs": [],
      "source": [
        "def X (x2, nu):\n",
        "  num = x2**(nu/2 - 1)*np.exp(-x2/2)\n",
        "  den = 2**(nu/2)*math.gamma(nu/2)\n",
        "  return num/den\n",
        "\n",
        "def P (x2min, nu):\n",
        "  return quad(X,x2min,np.inf,args=(nu,))[0]"
      ]
    },
    {
      "cell_type": "markdown",
      "source": [
        "8.3. i) Código para determinar el número de mediciones esperadas por intervalo según 2500 mediciones con distribución normal.\n",
        "\n",
        "El output son los valores esperados en formato Latex."
      ],
      "metadata": {
        "id": "09t8Y2osW7-L"
      }
    },
    {
      "cell_type": "code",
      "execution_count": 4,
      "metadata": {
        "colab": {
          "base_uri": "https://localhost:8080/"
        },
        "id": "pdGHD5g_63lu",
        "outputId": "087ac08e-cdb8-4215-da29-c0c970785f5c"
      },
      "outputs": [
        {
          "output_type": "stream",
          "name": "stdout",
          "text": [
            "E_{(-\\infty,-2.5)}&=16,\\\\\n",
            "E_{(-2.5, -2.0)}&=41,\\\\\n",
            "E_{(-2.0, -1.5)}&=110,\\\\\n",
            "E_{(-1.5, -1.0)}&=230,\\\\\n",
            "E_{(-1.0, -0.5)}&=375,\\\\\n",
            "E_{(-0.5, 0.0)}&=479,\\\\\n",
            "E_{(0.0, 0.5)}&=479,\\\\\n",
            "E_{(0.5, 1.0)}&=375,\\\\\n",
            "E_{(1.0, 1.5)}&=230,\\\\\n",
            "E_{(1.5, 2.0)}&=110,\\\\\n",
            "E_{(2.0, 2.5)}&=41,\\\\\n",
            "E_{(2.5,-\\infty)}&=16.\n"
          ]
        },
        {
          "output_type": "execute_result",
          "data": {
            "text/plain": [
              "103.95807223365945"
            ]
          },
          "metadata": {},
          "execution_count": 4
        }
      ],
      "source": [
        "def prob (min,max):\n",
        "  f = lambda x : (1/np.sqrt(2*np.pi))*np.exp(-(x**2)/2)\n",
        "  return 2500*quad(f,min,max)[0]\n",
        "\n",
        "x = np.arange(-2.5,2.5,0.5)\n",
        "O=np.array([9,48,142,154,438,521,405,318,299,100,57,9])\n",
        "E=[]\n",
        "\n",
        "print(\"E_{(-\\infty,-2.5)}&=\"+str(round(prob(-np.inf,-2.5)))+\",\\\\\"+\"\\\\\")\n",
        "E.append(round(prob(-np.inf,-2.5)))\n",
        "for i in x:\n",
        "\n",
        "  print(f\"E_{ {(i, i+0.5)}}&=\" + str(round(prob(i,i+0.5)))+\",\\\\\"+\"\\\\\")\n",
        "  E.append(round(prob(i,i+0.5)))\n",
        "print(\"E_{(2.5,-\\infty)}&=\"+str(round(prob(2.5,np.infty)))+\".\")\n",
        "E.append(round(prob(2.5,np.infty)))\n",
        "E=np.array(E)\n",
        "\n",
        "np.sum((E-O)**2 / E)"
      ]
    },
    {
      "cell_type": "markdown",
      "source": [
        "Código para determinar $\\chi^2$ y $P(\\chi^2;\\nu)$ con la hipótesis de que el dado es justo."
      ],
      "metadata": {
        "id": "C3v5YkZkYAfq"
      }
    },
    {
      "cell_type": "code",
      "source": [
        "E = np.array([16.67 for i in range(6)])\n",
        "O = [17,21,14,13,16,19]\n",
        "np.sum((E-O)**2 / E)\n",
        "\n",
        "P(2.71,3)"
      ],
      "metadata": {
        "colab": {
          "base_uri": "https://localhost:8080/"
        },
        "id": "LeHhhdLs8SZm",
        "outputId": "19613d87-b0f8-4458-a68a-2eef37398254"
      },
      "execution_count": 10,
      "outputs": [
        {
          "output_type": "execute_result",
          "data": {
            "text/plain": [
              "0.4385305732243125"
            ]
          },
          "metadata": {},
          "execution_count": 10
        }
      ]
    },
    {
      "cell_type": "markdown",
      "source": [
        "8.7 Código para determinar $\\chi^2$ y $P(\\chi^2;\\nu)$ con la hipótesis de que los datos se ajustan a una función lineal"
      ],
      "metadata": {
        "id": "1Wbj-L5eZB1Y"
      }
    },
    {
      "cell_type": "code",
      "source": [
        "x = np.arange(0.05,1.9,0.2)\n",
        "o = np.array([0,0.21,0.44,0.67,0.88,1.1,1.3,1.5,2,2.24])\n",
        "a = np.array([0.05,0.05,0.05,0.05,0.09,0.1,0.2,0.5,0.1,0.07])\n",
        "\n",
        "def lineal (x,y,a):\n",
        "  w = 1/(a**2)\n",
        "  mnum = np.sum(w)*np.sum(w*x*y)-np.sum(w*x)*np.sum(w*y)\n",
        "  mden = np.sum(w)*np.sum(w*x**2)-(np.sum(w*x))**2\n",
        "  m = mnum/mden\n",
        "\n",
        "  cnum = np.sum(w*x**2)*np.sum(w*y)-np.sum(w*x)*np.sum(w*x*y)\n",
        "  cden = mden\n",
        "  c = cnum/cden\n",
        "  return m, c\n",
        "\n",
        "m, c = lineal(x,o,a)\n",
        "\n",
        "def y(x):\n",
        "  return m*x+c\n",
        "\n",
        "chi2 = np.sum((o-y(x))**2 / a**2)\n",
        "P(4.27,8)"
      ],
      "metadata": {
        "colab": {
          "base_uri": "https://localhost:8080/"
        },
        "id": "Ex9PTs5OGPMJ",
        "outputId": "0fd2deec-39f2-48a5-a948-ef3e7b51a316"
      },
      "execution_count": 8,
      "outputs": [
        {
          "output_type": "execute_result",
          "data": {
            "text/plain": [
              "0.8319785033846826"
            ]
          },
          "metadata": {},
          "execution_count": 8
        }
      ]
    },
    {
      "cell_type": "markdown",
      "source": [
        "8.8. Código para hallar $\\chi^2$ y $P(\\chi^2;\\nu)$ con la hipótesis de que los datos se ajustan a una función lineal.\n",
        "\n"
      ],
      "metadata": {
        "id": "1dbjKQKSaLBD"
      }
    },
    {
      "cell_type": "code",
      "source": [
        "c = np.arange(0.025,0.2,0.025)\n",
        "theta = np.array([10.7, 21.6, 32.4, 43.1, 53.9, 64.9, 75.4])\n",
        "def y2(x):\n",
        "  return 431.7*x-0.03\n",
        "\n",
        "np.sum((theta-y2(c))**2 /(0.1**2))\n",
        "P(5.58,5)"
      ],
      "metadata": {
        "colab": {
          "base_uri": "https://localhost:8080/"
        },
        "id": "Fvfv6lLYRI-o",
        "outputId": "b2030ef1-a7fa-4fcd-e221-50a05d76f488"
      },
      "execution_count": 9,
      "outputs": [
        {
          "output_type": "execute_result",
          "data": {
            "text/plain": [
              "0.349253311664336"
            ]
          },
          "metadata": {},
          "execution_count": 9
        }
      ]
    }
  ],
  "metadata": {
    "colab": {
      "provenance": []
    },
    "kernelspec": {
      "display_name": "Python 3",
      "name": "python3"
    },
    "language_info": {
      "name": "python"
    }
  },
  "nbformat": 4,
  "nbformat_minor": 0
}